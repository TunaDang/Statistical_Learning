{
 "cells": [
  {
   "cell_type": "markdown",
   "metadata": {},
   "source": [
    "# Problem 1\n",
    "## Part 1 and 2"
   ]
  },
  {
   "cell_type": "code",
   "execution_count": 20,
   "metadata": {},
   "outputs": [],
   "source": [
    "from ISLP import load_data\n",
    "data = load_data('Default')"
   ]
  },
  {
   "cell_type": "code",
   "execution_count": 21,
   "metadata": {},
   "outputs": [],
   "source": [
    "import pandas as pd\n",
    "import numpy as np\n",
    "from sklearn.linear_model import LogisticRegression\n",
    "from sklearn.metrics import accuracy_score\n",
    "from sklearn.model_selection import train_test_split\n",
    "\n",
    "# a) Set seed for reproducibility\n",
    "np.random.seed(1)\n",
    "\n",
    "# Split data into training and validation sets of equal size\n",
    "data['default'] = [1 if label == 'Yes' else 0 for label in data['default']]\n",
    "train_data, val_data = train_test_split(data, test_size=0.5, random_state=1)\n",
    "\n",
    "# Prepare the training and validation datasets\n",
    "X_train = train_data[[\"income\", \"balance\"]]\n",
    "y_train = train_data[\"default\"]\n",
    "X_val = val_data[[\"income\", \"balance\"]]\n",
    "y_val = val_data[\"default\"]\n"
   ]
  },
  {
   "cell_type": "code",
   "execution_count": 22,
   "metadata": {
    "scrolled": true
   },
   "outputs": [
    {
     "name": "stdout",
     "output_type": "stream",
     "text": [
      "Validation set error: 0.0250\n"
     ]
    }
   ],
   "source": [
    "# c) Fit a logistic regression model\n",
    "log_reg = LogisticRegression()\n",
    "log_reg.fit(X_train, y_train)\n",
    "\n",
    "# d) Predict default status for the validation set with a cutoff of 0.5\n",
    "y_pred_prob = log_reg.predict_proba(X_val)[:, 1]  # Probabilities for class 1 (default)\n",
    "y_pred = (y_pred_prob > 0.5)\n",
    "\n",
    "# Compute the validation set error\n",
    "validation_error = 1 - accuracy_score(y_val, y_pred)\n",
    "\n",
    "print(f\"Validation set error: {validation_error:.4f}\")"
   ]
  },
  {
   "cell_type": "markdown",
   "metadata": {},
   "source": [
    "## Part 3"
   ]
  },
  {
   "cell_type": "code",
   "execution_count": 23,
   "metadata": {},
   "outputs": [
    {
     "name": "stdout",
     "output_type": "stream",
     "text": [
      "Validation set error for seed 2: 0.0248\n"
     ]
    }
   ],
   "source": [
    "# 3. Repeat for seed 2\n",
    "np.random.seed(2)\n",
    "train_data, val_data = train_test_split(data, test_size=0.5, random_state=2)\n",
    "\n",
    "X_train = train_data[[\"income\", \"balance\"]]\n",
    "y_train = train_data[\"default\"]\n",
    "X_val = val_data[[\"income\", \"balance\"]]\n",
    "y_val = val_data[\"default\"]\n",
    "\n",
    "log_reg = LogisticRegression()\n",
    "log_reg.fit(X_train, y_train)\n",
    "\n",
    "# d) Predict default status for the validation set with a cutoff of 0.5\n",
    "y_pred_prob = log_reg.predict_proba(X_val)[:, 1]  # Probabilities for class 1 (default)\n",
    "y_pred = (y_pred_prob > 0.5)\n",
    "\n",
    "# Compute the validation set error\n",
    "validation_error = 1 - accuracy_score(y_val, y_pred)\n",
    "\n",
    "print(f\"Validation set error for seed 2: {validation_error:.4f}\")"
   ]
  },
  {
   "cell_type": "code",
   "execution_count": 24,
   "metadata": {
    "scrolled": true
   },
   "outputs": [
    {
     "name": "stdout",
     "output_type": "stream",
     "text": [
      "Validation set error for seed 2: 0.0248\n"
     ]
    }
   ],
   "source": [
    "# 3. Repeat for seed 3\n",
    "np.random.seed(3)\n",
    "train_data, val_data = train_test_split(data, test_size=0.5, random_state=3)\n",
    "\n",
    "X_train = train_data[[\"income\", \"balance\"]]\n",
    "y_train = train_data[\"default\"]\n",
    "X_val = val_data[[\"income\", \"balance\"]]\n",
    "y_val = val_data[\"default\"]\n",
    "\n",
    "log_reg = LogisticRegression()\n",
    "log_reg.fit(X_train, y_train)\n",
    "\n",
    "# d) Predict default status for the validation set with a cutoff of 0.5\n",
    "y_pred_prob = log_reg.predict_proba(X_val)[:, 1]  # Probabilities for class 1 (default)\n",
    "y_pred = (y_pred_prob > 0.5)\n",
    "\n",
    "# Compute the validation set error\n",
    "validation_error = 1 - accuracy_score(y_val, y_pred)\n",
    "\n",
    "print(f\"Validation set error for seed 2: {validation_error:.4f}\")"
   ]
  },
  {
   "cell_type": "markdown",
   "metadata": {},
   "source": [
    "As one can see above, "
   ]
  }
 ],
 "metadata": {
  "kernelspec": {
   "display_name": "Python 3 (ipykernel)",
   "language": "python",
   "name": "python3"
  },
  "language_info": {
   "codemirror_mode": {
    "name": "ipython",
    "version": 3
   },
   "file_extension": ".py",
   "mimetype": "text/x-python",
   "name": "python",
   "nbconvert_exporter": "python",
   "pygments_lexer": "ipython3",
   "version": "3.10.10"
  }
 },
 "nbformat": 4,
 "nbformat_minor": 4
}
