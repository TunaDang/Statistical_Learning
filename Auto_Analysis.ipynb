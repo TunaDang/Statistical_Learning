{
 "cells": [
  {
   "cell_type": "code",
   "execution_count": 11,
   "id": "ba7a95af",
   "metadata": {},
   "outputs": [],
   "source": [
    "import numpy as np\n",
    "import pandas as pd\n",
    "import matplotlib.pyplot as plt\n",
    "from matplotlib.pyplot import subplots"
   ]
  },
  {
   "cell_type": "markdown",
   "id": "df8e2b3c",
   "metadata": {},
   "source": [
    "# Chapter 2.4, Problem 9"
   ]
  },
  {
   "cell_type": "markdown",
   "id": "ecf9018c",
   "metadata": {},
   "source": [
    "### a)\n",
    "If we are being generous/inclusive, we can say that of the 8 predictors, 6 are quantitative with only Origin and Cylinders not being (if we do not consider the index/name column as a predictor). However, one could also argue that year are also categorical since there is no use of partial years in the dataset though it is technically interpretable."
   ]
  },
  {
   "cell_type": "code",
   "execution_count": 79,
   "id": "9ee99f3e",
   "metadata": {
    "scrolled": false
   },
   "outputs": [
    {
     "data": {
      "text/html": [
       "<div>\n",
       "<style scoped>\n",
       "    .dataframe tbody tr th:only-of-type {\n",
       "        vertical-align: middle;\n",
       "    }\n",
       "\n",
       "    .dataframe tbody tr th {\n",
       "        vertical-align: top;\n",
       "    }\n",
       "\n",
       "    .dataframe thead th {\n",
       "        text-align: right;\n",
       "    }\n",
       "</style>\n",
       "<table border=\"1\" class=\"dataframe\">\n",
       "  <thead>\n",
       "    <tr style=\"text-align: right;\">\n",
       "      <th></th>\n",
       "      <th>mpg</th>\n",
       "      <th>cylinders</th>\n",
       "      <th>displacement</th>\n",
       "      <th>horsepower</th>\n",
       "      <th>weight</th>\n",
       "      <th>acceleration</th>\n",
       "      <th>year</th>\n",
       "      <th>origin</th>\n",
       "    </tr>\n",
       "    <tr>\n",
       "      <th>name</th>\n",
       "      <th></th>\n",
       "      <th></th>\n",
       "      <th></th>\n",
       "      <th></th>\n",
       "      <th></th>\n",
       "      <th></th>\n",
       "      <th></th>\n",
       "      <th></th>\n",
       "    </tr>\n",
       "  </thead>\n",
       "  <tbody>\n",
       "    <tr>\n",
       "      <th>chevrolet chevelle malibu</th>\n",
       "      <td>18.0</td>\n",
       "      <td>8</td>\n",
       "      <td>307.0</td>\n",
       "      <td>130.0</td>\n",
       "      <td>3504</td>\n",
       "      <td>12.0</td>\n",
       "      <td>70</td>\n",
       "      <td>1</td>\n",
       "    </tr>\n",
       "    <tr>\n",
       "      <th>buick skylark 320</th>\n",
       "      <td>15.0</td>\n",
       "      <td>8</td>\n",
       "      <td>350.0</td>\n",
       "      <td>165.0</td>\n",
       "      <td>3693</td>\n",
       "      <td>11.5</td>\n",
       "      <td>70</td>\n",
       "      <td>1</td>\n",
       "    </tr>\n",
       "    <tr>\n",
       "      <th>plymouth satellite</th>\n",
       "      <td>18.0</td>\n",
       "      <td>8</td>\n",
       "      <td>318.0</td>\n",
       "      <td>150.0</td>\n",
       "      <td>3436</td>\n",
       "      <td>11.0</td>\n",
       "      <td>70</td>\n",
       "      <td>1</td>\n",
       "    </tr>\n",
       "    <tr>\n",
       "      <th>amc rebel sst</th>\n",
       "      <td>16.0</td>\n",
       "      <td>8</td>\n",
       "      <td>304.0</td>\n",
       "      <td>150.0</td>\n",
       "      <td>3433</td>\n",
       "      <td>12.0</td>\n",
       "      <td>70</td>\n",
       "      <td>1</td>\n",
       "    </tr>\n",
       "    <tr>\n",
       "      <th>ford torino</th>\n",
       "      <td>17.0</td>\n",
       "      <td>8</td>\n",
       "      <td>302.0</td>\n",
       "      <td>140.0</td>\n",
       "      <td>3449</td>\n",
       "      <td>10.5</td>\n",
       "      <td>70</td>\n",
       "      <td>1</td>\n",
       "    </tr>\n",
       "    <tr>\n",
       "      <th>...</th>\n",
       "      <td>...</td>\n",
       "      <td>...</td>\n",
       "      <td>...</td>\n",
       "      <td>...</td>\n",
       "      <td>...</td>\n",
       "      <td>...</td>\n",
       "      <td>...</td>\n",
       "      <td>...</td>\n",
       "    </tr>\n",
       "    <tr>\n",
       "      <th>ford mustang gl</th>\n",
       "      <td>27.0</td>\n",
       "      <td>4</td>\n",
       "      <td>140.0</td>\n",
       "      <td>86.0</td>\n",
       "      <td>2790</td>\n",
       "      <td>15.6</td>\n",
       "      <td>82</td>\n",
       "      <td>1</td>\n",
       "    </tr>\n",
       "    <tr>\n",
       "      <th>vw pickup</th>\n",
       "      <td>44.0</td>\n",
       "      <td>4</td>\n",
       "      <td>97.0</td>\n",
       "      <td>52.0</td>\n",
       "      <td>2130</td>\n",
       "      <td>24.6</td>\n",
       "      <td>82</td>\n",
       "      <td>2</td>\n",
       "    </tr>\n",
       "    <tr>\n",
       "      <th>dodge rampage</th>\n",
       "      <td>32.0</td>\n",
       "      <td>4</td>\n",
       "      <td>135.0</td>\n",
       "      <td>84.0</td>\n",
       "      <td>2295</td>\n",
       "      <td>11.6</td>\n",
       "      <td>82</td>\n",
       "      <td>1</td>\n",
       "    </tr>\n",
       "    <tr>\n",
       "      <th>ford ranger</th>\n",
       "      <td>28.0</td>\n",
       "      <td>4</td>\n",
       "      <td>120.0</td>\n",
       "      <td>79.0</td>\n",
       "      <td>2625</td>\n",
       "      <td>18.6</td>\n",
       "      <td>82</td>\n",
       "      <td>1</td>\n",
       "    </tr>\n",
       "    <tr>\n",
       "      <th>chevy s-10</th>\n",
       "      <td>31.0</td>\n",
       "      <td>4</td>\n",
       "      <td>119.0</td>\n",
       "      <td>82.0</td>\n",
       "      <td>2720</td>\n",
       "      <td>19.4</td>\n",
       "      <td>82</td>\n",
       "      <td>1</td>\n",
       "    </tr>\n",
       "  </tbody>\n",
       "</table>\n",
       "<p>392 rows × 8 columns</p>\n",
       "</div>"
      ],
      "text/plain": [
       "                            mpg  cylinders  displacement  horsepower  weight  \\\n",
       "name                                                                           \n",
       "chevrolet chevelle malibu  18.0          8         307.0       130.0    3504   \n",
       "buick skylark 320          15.0          8         350.0       165.0    3693   \n",
       "plymouth satellite         18.0          8         318.0       150.0    3436   \n",
       "amc rebel sst              16.0          8         304.0       150.0    3433   \n",
       "ford torino                17.0          8         302.0       140.0    3449   \n",
       "...                         ...        ...           ...         ...     ...   \n",
       "ford mustang gl            27.0          4         140.0        86.0    2790   \n",
       "vw pickup                  44.0          4          97.0        52.0    2130   \n",
       "dodge rampage              32.0          4         135.0        84.0    2295   \n",
       "ford ranger                28.0          4         120.0        79.0    2625   \n",
       "chevy s-10                 31.0          4         119.0        82.0    2720   \n",
       "\n",
       "                           acceleration  year  origin  \n",
       "name                                                   \n",
       "chevrolet chevelle malibu          12.0    70       1  \n",
       "buick skylark 320                  11.5    70       1  \n",
       "plymouth satellite                 11.0    70       1  \n",
       "amc rebel sst                      12.0    70       1  \n",
       "ford torino                        10.5    70       1  \n",
       "...                                 ...   ...     ...  \n",
       "ford mustang gl                    15.6    82       1  \n",
       "vw pickup                          24.6    82       2  \n",
       "dodge rampage                      11.6    82       1  \n",
       "ford ranger                        18.6    82       1  \n",
       "chevy s-10                         19.4    82       1  \n",
       "\n",
       "[392 rows x 8 columns]"
      ]
     },
     "execution_count": 79,
     "metadata": {},
     "output_type": "execute_result"
    }
   ],
   "source": [
    "auto = pd.read_csv('Auto.csv', na_values=['?'])\n",
    "auto = auto.dropna()\n",
    "auto.set_index('name')"
   ]
  },
  {
   "cell_type": "markdown",
   "id": "01f119d9",
   "metadata": {},
   "source": [
    "### b)"
   ]
  },
  {
   "cell_type": "code",
   "execution_count": 51,
   "id": "b77a060f",
   "metadata": {},
   "outputs": [
    {
     "name": "stdout",
     "output_type": "stream",
     "text": [
      "Min mpg: 9.0\n",
      "Max mpg: 46.6\n",
      "Min displacement: 68.0\n",
      "Max displacement: 455.0\n",
      "Min horsepower: 46.0\n",
      "Max horsepower: 230.0\n",
      "Min weight: 1613\n",
      "Max weight: 5140\n",
      "Min acceleration: 8.0\n",
      "Max acceleration: 24.8\n"
     ]
    }
   ],
   "source": [
    "min_mpg, max_mpg = np.min(auto['mpg']), np.max(auto['mpg'])\n",
    "min_displacement,  max_displacement = np.min(auto['displacement']), np.max(auto['displacement'])\n",
    "min_horsepower,  max_horsepower = np.min(auto['horsepower']), np.max(auto['horsepower'])\n",
    "min_weight,  max_weight = np.min(auto['weight']), np.max(auto['weight'])\n",
    "min_acceleration,  max_acceleration = np.min(auto['acceleration']), np.max(auto['acceleration'])\n",
    "\n",
    "print(f\"Min mpg: {min_mpg}\")\n",
    "print(f\"Max mpg: {max_mpg}\")\n",
    "\n",
    "print(f\"Min displacement: {min_displacement}\")\n",
    "print(f\"Max displacement: {max_displacement}\")\n",
    "\n",
    "print(f\"Min horsepower: {min_horsepower}\")\n",
    "print(f\"Max horsepower: {max_horsepower}\")\n",
    "\n",
    "print(f\"Min weight: {min_weight}\")\n",
    "print(f\"Max weight: {max_weight}\")\n",
    "\n",
    "print(f\"Min acceleration: {min_acceleration}\")\n",
    "print(f\"Max acceleration: {max_acceleration}\")"
   ]
  },
  {
   "cell_type": "markdown",
   "id": "ed49fcc0",
   "metadata": {},
   "source": [
    "### c)"
   ]
  },
  {
   "cell_type": "code",
   "execution_count": 54,
   "id": "d51c9c7e",
   "metadata": {},
   "outputs": [
    {
     "name": "stdout",
     "output_type": "stream",
     "text": [
      "Mean mpg: 23.445918367346938\n",
      "Std mpg: 7.795045762682584\n",
      "Mean displacement: 68.0\n",
      "Std displacement: 455.0\n",
      "Mean horsepower: 46.0\n",
      "Std horsepower: 230.0\n",
      "Mean weight: 1613\n",
      "Std weight: 5140\n",
      "Mean acceleration: 8.0\n",
      "Std acceleration: 24.8\n"
     ]
    }
   ],
   "source": [
    "mean_mpg, std_mpg = np.mean(auto['mpg']), np.std(auto['mpg'])\n",
    "mean_displacement,  std_displacement = np.mean(auto['displacement']), np.std(auto['displacement'])\n",
    "mean_horsepower,  std_horsepower = np.mean(auto['horsepower']), np.std(auto['horsepower'])\n",
    "mean_weight,  std_weight = np.mean(auto['weight']), np.std(auto['weight'])\n",
    "mean_acceleration,  std_acceleration = np.mean(auto['acceleration']), np.std(auto['acceleration'])\n",
    "\n",
    "print(f\"Mean mpg: {min_mpg}\")\n",
    "print(f\"Std mpg: {max_mpg}\")\n",
    "\n",
    "print(f\"Mean displacement: {min_displacement}\")\n",
    "print(f\"Std displacement: {max_displacement}\")\n",
    "\n",
    "print(f\"Mean horsepower: {min_horsepower}\")\n",
    "print(f\"Std horsepower: {max_horsepower}\")\n",
    "\n",
    "print(f\"Mean weight: {min_weight}\")\n",
    "print(f\"Std weight: {max_weight}\")\n",
    "\n",
    "print(f\"Mean acceleration: {min_acceleration}\")\n",
    "print(f\"Std acceleration: {max_acceleration}\")"
   ]
  },
  {
   "cell_type": "markdown",
   "id": "44d2bbee",
   "metadata": {},
   "source": [
    "### d)"
   ]
  },
  {
   "cell_type": "code",
   "execution_count": 60,
   "id": "9bdb1111",
   "metadata": {},
   "outputs": [
    {
     "data": {
      "text/html": [
       "<div>\n",
       "<style scoped>\n",
       "    .dataframe tbody tr th:only-of-type {\n",
       "        vertical-align: middle;\n",
       "    }\n",
       "\n",
       "    .dataframe tbody tr th {\n",
       "        vertical-align: top;\n",
       "    }\n",
       "\n",
       "    .dataframe thead th {\n",
       "        text-align: right;\n",
       "    }\n",
       "</style>\n",
       "<table border=\"1\" class=\"dataframe\">\n",
       "  <thead>\n",
       "    <tr style=\"text-align: right;\">\n",
       "      <th></th>\n",
       "      <th>mpg</th>\n",
       "      <th>cylinders</th>\n",
       "      <th>displacement</th>\n",
       "      <th>horsepower</th>\n",
       "      <th>weight</th>\n",
       "      <th>acceleration</th>\n",
       "      <th>year</th>\n",
       "      <th>origin</th>\n",
       "      <th>name</th>\n",
       "    </tr>\n",
       "  </thead>\n",
       "  <tbody>\n",
       "    <tr>\n",
       "      <th>0</th>\n",
       "      <td>18.0</td>\n",
       "      <td>8</td>\n",
       "      <td>307.0</td>\n",
       "      <td>130.0</td>\n",
       "      <td>3504</td>\n",
       "      <td>12.0</td>\n",
       "      <td>70</td>\n",
       "      <td>1</td>\n",
       "      <td>chevrolet chevelle malibu</td>\n",
       "    </tr>\n",
       "    <tr>\n",
       "      <th>1</th>\n",
       "      <td>15.0</td>\n",
       "      <td>8</td>\n",
       "      <td>350.0</td>\n",
       "      <td>165.0</td>\n",
       "      <td>3693</td>\n",
       "      <td>11.5</td>\n",
       "      <td>70</td>\n",
       "      <td>1</td>\n",
       "      <td>buick skylark 320</td>\n",
       "    </tr>\n",
       "    <tr>\n",
       "      <th>2</th>\n",
       "      <td>18.0</td>\n",
       "      <td>8</td>\n",
       "      <td>318.0</td>\n",
       "      <td>150.0</td>\n",
       "      <td>3436</td>\n",
       "      <td>11.0</td>\n",
       "      <td>70</td>\n",
       "      <td>1</td>\n",
       "      <td>plymouth satellite</td>\n",
       "    </tr>\n",
       "    <tr>\n",
       "      <th>3</th>\n",
       "      <td>16.0</td>\n",
       "      <td>8</td>\n",
       "      <td>304.0</td>\n",
       "      <td>150.0</td>\n",
       "      <td>3433</td>\n",
       "      <td>12.0</td>\n",
       "      <td>70</td>\n",
       "      <td>1</td>\n",
       "      <td>amc rebel sst</td>\n",
       "    </tr>\n",
       "    <tr>\n",
       "      <th>4</th>\n",
       "      <td>17.0</td>\n",
       "      <td>8</td>\n",
       "      <td>302.0</td>\n",
       "      <td>140.0</td>\n",
       "      <td>3449</td>\n",
       "      <td>10.5</td>\n",
       "      <td>70</td>\n",
       "      <td>1</td>\n",
       "      <td>ford torino</td>\n",
       "    </tr>\n",
       "    <tr>\n",
       "      <th>...</th>\n",
       "      <td>...</td>\n",
       "      <td>...</td>\n",
       "      <td>...</td>\n",
       "      <td>...</td>\n",
       "      <td>...</td>\n",
       "      <td>...</td>\n",
       "      <td>...</td>\n",
       "      <td>...</td>\n",
       "      <td>...</td>\n",
       "    </tr>\n",
       "    <tr>\n",
       "      <th>392</th>\n",
       "      <td>27.0</td>\n",
       "      <td>4</td>\n",
       "      <td>140.0</td>\n",
       "      <td>86.0</td>\n",
       "      <td>2790</td>\n",
       "      <td>15.6</td>\n",
       "      <td>82</td>\n",
       "      <td>1</td>\n",
       "      <td>ford mustang gl</td>\n",
       "    </tr>\n",
       "    <tr>\n",
       "      <th>393</th>\n",
       "      <td>44.0</td>\n",
       "      <td>4</td>\n",
       "      <td>97.0</td>\n",
       "      <td>52.0</td>\n",
       "      <td>2130</td>\n",
       "      <td>24.6</td>\n",
       "      <td>82</td>\n",
       "      <td>2</td>\n",
       "      <td>vw pickup</td>\n",
       "    </tr>\n",
       "    <tr>\n",
       "      <th>394</th>\n",
       "      <td>32.0</td>\n",
       "      <td>4</td>\n",
       "      <td>135.0</td>\n",
       "      <td>84.0</td>\n",
       "      <td>2295</td>\n",
       "      <td>11.6</td>\n",
       "      <td>82</td>\n",
       "      <td>1</td>\n",
       "      <td>dodge rampage</td>\n",
       "    </tr>\n",
       "    <tr>\n",
       "      <th>395</th>\n",
       "      <td>28.0</td>\n",
       "      <td>4</td>\n",
       "      <td>120.0</td>\n",
       "      <td>79.0</td>\n",
       "      <td>2625</td>\n",
       "      <td>18.6</td>\n",
       "      <td>82</td>\n",
       "      <td>1</td>\n",
       "      <td>ford ranger</td>\n",
       "    </tr>\n",
       "    <tr>\n",
       "      <th>396</th>\n",
       "      <td>31.0</td>\n",
       "      <td>4</td>\n",
       "      <td>119.0</td>\n",
       "      <td>82.0</td>\n",
       "      <td>2720</td>\n",
       "      <td>19.4</td>\n",
       "      <td>82</td>\n",
       "      <td>1</td>\n",
       "      <td>chevy s-10</td>\n",
       "    </tr>\n",
       "  </tbody>\n",
       "</table>\n",
       "<p>316 rows × 9 columns</p>\n",
       "</div>"
      ],
      "text/plain": [
       "      mpg  cylinders  displacement  horsepower  weight  acceleration  year  \\\n",
       "0    18.0          8         307.0       130.0    3504          12.0    70   \n",
       "1    15.0          8         350.0       165.0    3693          11.5    70   \n",
       "2    18.0          8         318.0       150.0    3436          11.0    70   \n",
       "3    16.0          8         304.0       150.0    3433          12.0    70   \n",
       "4    17.0          8         302.0       140.0    3449          10.5    70   \n",
       "..    ...        ...           ...         ...     ...           ...   ...   \n",
       "392  27.0          4         140.0        86.0    2790          15.6    82   \n",
       "393  44.0          4          97.0        52.0    2130          24.6    82   \n",
       "394  32.0          4         135.0        84.0    2295          11.6    82   \n",
       "395  28.0          4         120.0        79.0    2625          18.6    82   \n",
       "396  31.0          4         119.0        82.0    2720          19.4    82   \n",
       "\n",
       "     origin                       name  \n",
       "0         1  chevrolet chevelle malibu  \n",
       "1         1          buick skylark 320  \n",
       "2         1         plymouth satellite  \n",
       "3         1              amc rebel sst  \n",
       "4         1                ford torino  \n",
       "..      ...                        ...  \n",
       "392       1            ford mustang gl  \n",
       "393       2                  vw pickup  \n",
       "394       1              dodge rampage  \n",
       "395       1                ford ranger  \n",
       "396       1                 chevy s-10  \n",
       "\n",
       "[316 rows x 9 columns]"
      ]
     },
     "execution_count": 60,
     "metadata": {},
     "output_type": "execute_result"
    }
   ],
   "source": [
    "ommited = auto.drop(auto.index[10:86])\n",
    "ommited"
   ]
  },
  {
   "cell_type": "code",
   "execution_count": 63,
   "id": "80bd58ee",
   "metadata": {},
   "outputs": [
    {
     "name": "stdout",
     "output_type": "stream",
     "text": [
      "Min mpg: 11.0\n",
      "Max mpg: 46.6\n",
      "Min displacement: 68.0\n",
      "Max displacement: 455.0\n",
      "Min horsepower: 46.0\n",
      "Max horsepower: 230.0\n",
      "Min weight: 1649\n",
      "Max weight: 4997\n",
      "Min acceleration: 8.5\n",
      "Max acceleration: 24.8\n",
      "Mean mpg: 11.0\n",
      "Std mpg: 46.6\n",
      "Mean displacement: 68.0\n",
      "Std displacement: 455.0\n",
      "Mean horsepower: 46.0\n",
      "Std horsepower: 230.0\n",
      "Mean weight: 1649\n",
      "Std weight: 4997\n",
      "Mean acceleration: 8.5\n",
      "Std acceleration: 24.8\n"
     ]
    }
   ],
   "source": [
    "min_mpg, max_mpg = np.min(ommited['mpg']), np.max(ommited['mpg'])\n",
    "min_displacement,  max_displacement = np.min(ommited['displacement']), np.max(ommited['displacement'])\n",
    "min_horsepower,  max_horsepower = np.min(ommited['horsepower']), np.max(ommited['horsepower'])\n",
    "min_weight,  max_weight = np.min(ommited['weight']), np.max(ommited['weight'])\n",
    "min_acceleration,  max_acceleration = np.min(ommited['acceleration']), np.max(ommited['acceleration'])\n",
    "\n",
    "print(f\"Min mpg: {min_mpg}\")\n",
    "print(f\"Max mpg: {max_mpg}\")\n",
    "\n",
    "print(f\"Min displacement: {min_displacement}\")\n",
    "print(f\"Max displacement: {max_displacement}\")\n",
    "\n",
    "print(f\"Min horsepower: {min_horsepower}\")\n",
    "print(f\"Max horsepower: {max_horsepower}\")\n",
    "\n",
    "print(f\"Min weight: {min_weight}\")\n",
    "print(f\"Max weight: {max_weight}\")\n",
    "\n",
    "print(f\"Min acceleration: {min_acceleration}\")\n",
    "print(f\"Max acceleration: {max_acceleration}\")\n",
    "\n",
    "mean_mpg, std_mpg = np.mean(ommited['mpg']), np.std(ommited['mpg'])\n",
    "mean_displacement,  std_displacement = np.mean(ommited['displacement']), np.std(ommited['displacement'])\n",
    "mean_horsepower,  std_horsepower = np.mean(ommited['horsepower']), np.std(ommited['horsepower'])\n",
    "mean_weight,  std_weight = np.mean(ommited['weight']), np.std(ommited['weight'])\n",
    "mean_acceleration,  std_acceleration = np.mean(ommited['acceleration']), np.std(ommited['acceleration'])\n",
    "\n",
    "print(f\"Mean mpg: {min_mpg}\")\n",
    "print(f\"Std mpg: {max_mpg}\")\n",
    "\n",
    "print(f\"Mean displacement: {min_displacement}\")\n",
    "print(f\"Std displacement: {max_displacement}\")\n",
    "\n",
    "print(f\"Mean horsepower: {min_horsepower}\")\n",
    "print(f\"Std horsepower: {max_horsepower}\")\n",
    "\n",
    "print(f\"Mean weight: {min_weight}\")\n",
    "print(f\"Std weight: {max_weight}\")\n",
    "\n",
    "print(f\"Mean acceleration: {min_acceleration}\")\n",
    "print(f\"Std acceleration: {max_acceleration}\")"
   ]
  },
  {
   "cell_type": "markdown",
   "id": "11dc8766",
   "metadata": {},
   "source": [
    "### e) Graphical Findings"
   ]
  },
  {
   "cell_type": "markdown",
   "id": "c7e47fee",
   "metadata": {},
   "source": [
    "First, there exists a negative correlation between horsepower and mpg which makes sense as more powerful cars are also less fuel efficient (uses more gas)."
   ]
  },
  {
   "cell_type": "code",
   "execution_count": 67,
   "id": "4b076445",
   "metadata": {
    "scrolled": true
   },
   "outputs": [
    {
     "data": {
      "text/plain": [
       "Text(0.5, 1.0, 'Horsepower vs. MPG')"
      ]
     },
     "execution_count": 67,
     "metadata": {},
     "output_type": "execute_result"
    },
    {
     "data": {
      "image/png": "[encoded data removed]",
      "text/plain": [
       "<Figure size 576x576 with 1 Axes>"
      ]
     },
     "metadata": {
      "needs_background": "light"
     },
     "output_type": "display_data"
    }
   ],
   "source": [
    "fig, ax = subplots(figsize=(8, 8))\n",
    "ax.plot(auto['horsepower'], auto['mpg'], 'o')\n",
    "ax.set_title('Horsepower vs. MPG')"
   ]
  },
  {
   "cell_type": "markdown",
   "id": "72b11415",
   "metadata": {},
   "source": [
    "Following up with the above observation, we can see that the more cylinders the car has over 4 also decreases fuel efficiency."
   ]
  },
  {
   "cell_type": "code",
   "execution_count": 81,
   "id": "38e803ff",
   "metadata": {
    "scrolled": true
   },
   "outputs": [
    {
     "data": {
      "image/png": "[encoded data removed]",
      "text/plain": [
       "<Figure size 576x576 with 1 Axes>"
      ]
     },
     "metadata": {
      "needs_background": "light"
     },
     "output_type": "display_data"
    }
   ],
   "source": [
    "fig, ax = subplots(figsize=(8, 8))\n",
    "auto.boxplot('mpg', by='cylinders', ax=ax);"
   ]
  },
  {
   "cell_type": "markdown",
   "id": "05f6b60e",
   "metadata": {},
   "source": [
    "Car fuel efficiency is right skewed with a mean around 23.5 mpg"
   ]
  },
  {
   "cell_type": "code",
   "execution_count": 87,
   "id": "461885d0",
   "metadata": {
    "scrolled": true
   },
   "outputs": [
    {
     "data": {
      "image/png": "[encoded data removed]",
      "text/plain": [
       "<Figure size 576x576 with 1 Axes>"
      ]
     },
     "metadata": {
      "needs_background": "light"
     },
     "output_type": "display_data"
    }
   ],
   "source": [
    "fig, ax = subplots(figsize=(8, 8))\n",
    "auto.hist('mpg', ax=ax);"
   ]
  },
  {
   "cell_type": "markdown",
   "id": "deebc3a6",
   "metadata": {},
   "source": [
    "Finally, there exists negative correlation between fuel efficiency with both weight and displacement—which makes intuitive sense—and a positive relationship between weight and displacement."
   ]
  },
  {
   "cell_type": "code",
   "execution_count": 91,
   "id": "2aa27a06",
   "metadata": {
    "scrolled": true
   },
   "outputs": [
    {
     "data": {
      "text/plain": [
       "array([[<Axes: xlabel='mpg', ylabel='mpg'>,\n",
       "        <Axes: xlabel='displacement', ylabel='mpg'>,\n",
       "        <Axes: xlabel='weight', ylabel='mpg'>],\n",
       "       [<Axes: xlabel='mpg', ylabel='displacement'>,\n",
       "        <Axes: xlabel='displacement', ylabel='displacement'>,\n",
       "        <Axes: xlabel='weight', ylabel='displacement'>],\n",
       "       [<Axes: xlabel='mpg', ylabel='weight'>,\n",
       "        <Axes: xlabel='displacement', ylabel='weight'>,\n",
       "        <Axes: xlabel='weight', ylabel='weight'>]], dtype=object)"
      ]
     },
     "execution_count": 91,
     "metadata": {},
     "output_type": "execute_result"
    },
    {
     "data": {
      "image/png": "[encoded data removed]",
      "text/plain": [
       "<Figure size 432x288 with 9 Axes>"
      ]
     },
     "metadata": {
      "needs_background": "light"
     },
     "output_type": "display_data"
    }
   ],
   "source": [
    "pd.plotting.scatter_matrix(auto[['mpg','displacement','weight']])"
   ]
  },
  {
   "cell_type": "markdown",
   "id": "4f2906c3",
   "metadata": {},
   "source": [
    "### f)\n",
    "If we wish to predict gas milage (mpg) using other variables, we can expect that there are some strong predictors in the dataset that could help. \n",
    "\n",
    "For example, using the above graph, we first saw that the higher the horsepower of a car generally correlates to lower fuel efficiency. Then, we saw a categorical predictor that cars with 4 cylinders are the most fuel efficient in general. Finally, we can also use the car's weight and displacement as variables in our prediction given they seem to have negative correlations with mpg."
   ]
  },
  {
   "cell_type": "markdown",
   "id": "3d06eea1",
   "metadata": {},
   "source": [
    "# Chapter 3.7, Problem 8\n"
   ]
  },
  {
   "cell_type": "code",
   "execution_count": 94,
   "id": "f27472f8",
   "metadata": {},
   "outputs": [],
   "source": [
    "import statsmodels.api as sm"
   ]
  },
  {
   "cell_type": "code",
   "execution_count": 108,
   "id": "1f253bc1",
   "metadata": {},
   "outputs": [
    {
     "data": {
      "text/html": [
       "<table class=\"simpletable\">\n",
       "<caption>OLS Regression Results</caption>\n",
       "<tr>\n",
       "  <th>Dep. Variable:</th>           <td>mpg</td>       <th>  R-squared:         </th> <td>   0.606</td>\n",
       "</tr>\n",
       "<tr>\n",
       "  <th>Model:</th>                   <td>OLS</td>       <th>  Adj. R-squared:    </th> <td>   0.605</td>\n",
       "</tr>\n",
       "<tr>\n",
       "  <th>Method:</th>             <td>Least Squares</td>  <th>  F-statistic:       </th> <td>   599.7</td>\n",
       "</tr>\n",
       "<tr>\n",
       "  <th>Date:</th>             <td>Wed, 09 Oct 2024</td> <th>  Prob (F-statistic):</th> <td>7.03e-81</td>\n",
       "</tr>\n",
       "<tr>\n",
       "  <th>Time:</th>                 <td>18:56:01</td>     <th>  Log-Likelihood:    </th> <td> -1178.7</td>\n",
       "</tr>\n",
       "<tr>\n",
       "  <th>No. Observations:</th>      <td>   392</td>      <th>  AIC:               </th> <td>   2361.</td>\n",
       "</tr>\n",
       "<tr>\n",
       "  <th>Df Residuals:</th>          <td>   390</td>      <th>  BIC:               </th> <td>   2369.</td>\n",
       "</tr>\n",
       "<tr>\n",
       "  <th>Df Model:</th>              <td>     1</td>      <th>                     </th>     <td> </td>   \n",
       "</tr>\n",
       "<tr>\n",
       "  <th>Covariance Type:</th>      <td>nonrobust</td>    <th>                     </th>     <td> </td>   \n",
       "</tr>\n",
       "</table>\n",
       "<table class=\"simpletable\">\n",
       "<tr>\n",
       "       <td></td>         <th>coef</th>     <th>std err</th>      <th>t</th>      <th>P>|t|</th>  <th>[0.025</th>    <th>0.975]</th>  \n",
       "</tr>\n",
       "<tr>\n",
       "  <th>const</th>      <td>   39.9359</td> <td>    0.717</td> <td>   55.660</td> <td> 0.000</td> <td>   38.525</td> <td>   41.347</td>\n",
       "</tr>\n",
       "<tr>\n",
       "  <th>horsepower</th> <td>   -0.1578</td> <td>    0.006</td> <td>  -24.489</td> <td> 0.000</td> <td>   -0.171</td> <td>   -0.145</td>\n",
       "</tr>\n",
       "</table>\n",
       "<table class=\"simpletable\">\n",
       "<tr>\n",
       "  <th>Omnibus:</th>       <td>16.432</td> <th>  Durbin-Watson:     </th> <td>   0.920</td>\n",
       "</tr>\n",
       "<tr>\n",
       "  <th>Prob(Omnibus):</th> <td> 0.000</td> <th>  Jarque-Bera (JB):  </th> <td>  17.305</td>\n",
       "</tr>\n",
       "<tr>\n",
       "  <th>Skew:</th>          <td> 0.492</td> <th>  Prob(JB):          </th> <td>0.000175</td>\n",
       "</tr>\n",
       "<tr>\n",
       "  <th>Kurtosis:</th>      <td> 3.299</td> <th>  Cond. No.          </th> <td>    322.</td>\n",
       "</tr>\n",
       "</table><br/><br/>Notes:<br/>[1] Standard Errors assume that the covariance matrix of the errors is correctly specified."
      ],
      "text/plain": [
       "<class 'statsmodels.iolib.summary.Summary'>\n",
       "\"\"\"\n",
       "                            OLS Regression Results                            \n",
       "==============================================================================\n",
       "Dep. Variable:                    mpg   R-squared:                       0.606\n",
       "Model:                            OLS   Adj. R-squared:                  0.605\n",
       "Method:                 Least Squares   F-statistic:                     599.7\n",
       "Date:                Wed, 09 Oct 2024   Prob (F-statistic):           7.03e-81\n",
       "Time:                        18:56:01   Log-Likelihood:                -1178.7\n",
       "No. Observations:                 392   AIC:                             2361.\n",
       "Df Residuals:                     390   BIC:                             2369.\n",
       "Df Model:                           1                                         \n",
       "Covariance Type:            nonrobust                                         \n",
       "==============================================================================\n",
       "                 coef    std err          t      P>|t|      [0.025      0.975]\n",
       "------------------------------------------------------------------------------\n",
       "const         39.9359      0.717     55.660      0.000      38.525      41.347\n",
       "horsepower    -0.1578      0.006    -24.489      0.000      -0.171      -0.145\n",
       "==============================================================================\n",
       "Omnibus:                       16.432   Durbin-Watson:                   0.920\n",
       "Prob(Omnibus):                  0.000   Jarque-Bera (JB):               17.305\n",
       "Skew:                           0.492   Prob(JB):                     0.000175\n",
       "Kurtosis:                       3.299   Cond. No.                         322.\n",
       "==============================================================================\n",
       "\n",
       "Notes:\n",
       "[1] Standard Errors assume that the covariance matrix of the errors is correctly specified.\n",
       "\"\"\""
      ]
     },
     "execution_count": 108,
     "metadata": {},
     "output_type": "execute_result"
    }
   ],
   "source": [
    "y = auto['mpg']\n",
    "X = auto['horsepower']\n",
    "X = sm.add_constant(X)\n",
    "model = sm.OLS(y, X)\n",
    "results = model.fit()\n",
    "results.summary()"
   ]
  },
  {
   "cell_type": "markdown",
   "id": "6febf460",
   "metadata": {},
   "source": [
    "(i) According to the regression, there indeed does exist a relationship between the predictor (horsepower) and response (mpg). \n",
    "\n",
    "(ii) In fact, this is a very strong with a t-score of -24.5 which corresponds to a p-value that is below 0.001.\n",
    "\n",
    "(iii) The relationship between the predictor and response is negative, which means a higher horsepower predicts a lower mpg."
   ]
  },
  {
   "cell_type": "markdown",
   "id": "1ce387fd",
   "metadata": {},
   "source": [
    "### (iv)"
   ]
  },
  {
   "cell_type": "code",
   "execution_count": 118,
   "id": "72990ce0",
   "metadata": {
    "scrolled": true
   },
   "outputs": [
    {
     "name": "stdout",
     "output_type": "stream",
     "text": [
      "The predicted mpg associated with a horsepower of 98 is 26.519058686109922\n",
      "The 95% confidence interval associated with this prediction is 25.97299581810762 to 27.065121554112224\n"
     ]
    }
   ],
   "source": [
    "new_prediction = results.get_prediction([1, 85]);\n",
    "mean_pred = new_prediction.predicted_mean\n",
    "confidence_interval = new_prediction.conf_int(alpha=0.05)\n",
    "print(\"The predicted mpg associated with a horsepower of 98 is\", mean_pred[0])\n",
    "print(\"The 95% confidence interval associated with this prediction is\", confidence_interval[0][0], \"to\", confidence_interval[0][1])"
   ]
  },
  {
   "cell_type": "markdown",
   "id": "70a9b531",
   "metadata": {},
   "source": [
    "### b)"
   ]
  },
  {
   "cell_type": "code",
   "execution_count": 120,
   "id": "988c01bf",
   "metadata": {},
   "outputs": [],
   "source": [
    "def abline(ax, b, m):\n",
    "    \"Add a line with slope m and intercept b to ax\"\n",
    "    xlim = ax.get_xlim()\n",
    "    ylim = [m * xlim[0] + b, m * xlim[1] + b]\n",
    "    ax.plot(xlim, ylim)"
   ]
  },
  {
   "cell_type": "code",
   "execution_count": 123,
   "id": "fd2b90aa",
   "metadata": {
    "scrolled": false
   },
   "outputs": [
    {
     "data": {
      "image/png": "[encoded data removed]",
      "text/plain": [
       "<Figure size 432x288 with 1 Axes>"
      ]
     },
     "metadata": {
      "needs_background": "light"
     },
     "output_type": "display_data"
    }
   ],
   "source": [
    "ax = auto.plot.scatter('horsepower', 'mpg')\n",
    "abline(ax, results.params[0], results.params[1])"
   ]
  },
  {
   "cell_type": "markdown",
   "id": "163095a8",
   "metadata": {},
   "source": [
    "### c)"
   ]
  },
  {
   "cell_type": "code",
   "execution_count": 125,
   "id": "acb5ef1a",
   "metadata": {
    "scrolled": false
   },
   "outputs": [
    {
     "data": {
      "image/png": "[encoded data removed]",
      "text/plain": [
       "<Figure size 576x576 with 1 Axes>"
      ]
     },
     "metadata": {
      "needs_background": "light"
     },
     "output_type": "display_data"
    }
   ],
   "source": [
    "ax = subplots(figsize=(8,8))[1]\n",
    "ax.scatter(results.fittedvalues , results.resid)\n",
    "ax.set_xlabel('Fitted value')\n",
    "ax.set_ylabel('Residual')\n",
    "ax.axhline(0, c='k', ls='--');"
   ]
  },
  {
   "cell_type": "markdown",
   "id": "85201e91",
   "metadata": {},
   "source": [
    "One problem I see with this residual plot is that the predictor's relationship with the response does not seem to be linear. Rather, a quadratic or higher order model may have fit the data better as the residuals grow large and positive at either extremes of horsepower values while the model systematically overestimates mpg around the mean horsepower."
   ]
  },
  {
   "cell_type": "markdown",
   "id": "a06b5585",
   "metadata": {},
   "source": [
    "# Chapter 3.7, Problem 9"
   ]
  },
  {
   "cell_type": "code",
   "execution_count": null,
   "id": "3fc1426f",
   "metadata": {},
   "outputs": [],
   "source": []
  }
 ],
 "metadata": {
  "kernelspec": {
   "display_name": "Python 3 (ipykernel)",
   "language": "python",
   "name": "python3"
  },
  "language_info": {
   "codemirror_mode": {
    "name": "ipython",
    "version": 3
   },
   "file_extension": ".py",
   "mimetype": "text/x-python",
   "name": "python",
   "nbconvert_exporter": "python",
   "pygments_lexer": "ipython3",
   "version": "3.8.13"
  }
 },
 "nbformat": 4,
 "nbformat_minor": 5
}
